{
 "cells": [
  {
   "cell_type": "markdown",
   "id": "aaae48a1",
   "metadata": {},
   "source": [
    "Ans1-File object passed to PyPDF2.PdfFileReader() needs to be opened in read-binary mode by passing 'rb' as the second argument to open(). Likewise, the File object passed to PyPDF2.PdfFileWriter() needs to be opened in write-binary mode with 'wb'."
   ]
  },
  {
   "cell_type": "markdown",
   "id": "983e191e",
   "metadata": {},
   "source": [
    "Ans2-by calling the getPage(5) "
   ]
  },
  {
   "cell_type": "markdown",
   "id": "fa7c6b0e",
   "metadata": {},
   "source": [
    "Ans3-The total number of pages in the document is stored in the numPages attribute of a PdfFileReader object"
   ]
  },
  {
   "cell_type": "markdown",
   "id": "fb4300f8",
   "metadata": {},
   "source": [
    "Ans4-\n",
    "\n",
    "import PyPDF2 \n",
    "\n",
    "dfReader = PyPDF2.PdfFileReader(open('encrypted.pdf', 'rb'))\n",
    "\n",
    "pdfReader.isEncrypted\n",
    "\n",
    "   True\n",
    "\n",
    "pdfReader = PyPDF2.PdfFileReader(open('encrypted.pdf', 'rb'))\n",
    "\n",
    "pdfReader.decrypt('swordfish')\n",
    "   \n"
   ]
  },
  {
   "cell_type": "markdown",
   "id": "614296d5",
   "metadata": {},
   "source": [
    "Ans5-rotateClockwise() and rotateCounterClockwise() methods. Pass one of the integers 90, 180, or 270 to these methods. "
   ]
  },
  {
   "cell_type": "markdown",
   "id": "842b225a",
   "metadata": {},
   "source": [
    "Ans6-paragraph styles can be applied to Paragraph objects, character styles can be applied to Run objects."
   ]
  },
  {
   "cell_type": "markdown",
   "id": "82791a6f",
   "metadata": {},
   "source": [
    "Ans7- \n",
    "import docx\n",
    "\n",
    "doc = docx.Document('abc.docx')\n",
    "\n",
    "doc.paragraphs"
   ]
  },
  {
   "cell_type": "markdown",
   "id": "aafe88e5",
   "metadata": {},
   "source": [
    "Ans8- Run object"
   ]
  },
  {
   "cell_type": "markdown",
   "id": "0adcf1e6",
   "metadata": {},
   "source": [
    "Ans9- True always makes the Run object bolded and False makes it always not bolded, no matter what the style’s bold setting is. None will make the Run object just use the style’s bold setting"
   ]
  },
  {
   "cell_type": "markdown",
   "id": "7e4ab2e3",
   "metadata": {},
   "source": [
    "Ans10- By Calling the docx.Document() function.\n"
   ]
  },
  {
   "cell_type": "markdown",
   "id": "13f7864b",
   "metadata": {},
   "source": [
    "Ans11- integer from 0 to 4\n",
    "The arguments to add_heading() are a string of the heading text and an integer from 0 to 4. The integer 0 makes the heading the Title style, which is used for the top of the document. Integers 1 to 4 are for various heading levels, with 1 being the main heading and 4 the lowest subheading"
   ]
  },
  {
   "cell_type": "code",
   "execution_count": null,
   "id": "c67a4f83",
   "metadata": {},
   "outputs": [],
   "source": []
  }
 ],
 "metadata": {
  "kernelspec": {
   "display_name": "Python 3 (ipykernel)",
   "language": "python",
   "name": "python3"
  },
  "language_info": {
   "codemirror_mode": {
    "name": "ipython",
    "version": 3
   },
   "file_extension": ".py",
   "mimetype": "text/x-python",
   "name": "python",
   "nbconvert_exporter": "python",
   "pygments_lexer": "ipython3",
   "version": "3.9.12"
  }
 },
 "nbformat": 4,
 "nbformat_minor": 5
}
